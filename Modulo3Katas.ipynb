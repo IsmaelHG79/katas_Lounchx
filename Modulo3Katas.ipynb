{
 "cells": [
  {
   "cell_type": "markdown",
   "metadata": {},
   "source": [
    "Para este ejercicio, escribirás una lógica condicional que imprima una advertencia si un asteroide se acerca a la Tierra demasiado rápido. La velocidad del asteroide varía dependiendo de lo cerca que esté del sol, y cualquier velocidad superior a 25 kilómetros por segundo (km/s) merece una advertencia.\n",
    "\n",
    "Un asteroide se acerca, y viaja a una velocidad de 49 km/s."
   ]
  },
  {
   "cell_type": "code",
   "execution_count": 8,
   "metadata": {},
   "outputs": [
    {
     "name": "stdout",
     "output_type": "stream",
     "text": [
      "Advertencia, se aproxima demasiado rapido un asteroide, viaja a: 49 kms/s\n"
     ]
    }
   ],
   "source": [
    "asteroide = 49\n",
    "\n",
    "if asteroide > 25:\n",
    "    print(\"Advertencia, se aproxima demasiado rapido un asteroide, viaja a: \" +str(asteroide)+\" kms/s\")\n",
    "else:\n",
    "    print(\"Relajate si hay asteroide pero no viaja rapido\")\n"
   ]
  },
  {
   "cell_type": "markdown",
   "metadata": {},
   "source": [
    "Si un asteroide entra en la atmósfera de la Tierra a una velocidad mayor o igual a 20 km/s, a veces produce un rayo de luz que se puede ver desde la Tierra. Escribe la lógica condicional que usa declaraciones if, else, y elif para alertar a las personas de todo el mundo que deben buscar un asteroide en el cielo. ¡Hay uno que se dirige a la tierra ahora a una velocidad de 19 km/s!"
   ]
  },
  {
   "cell_type": "code",
   "execution_count": 17,
   "metadata": {},
   "outputs": [
    {
     "name": "stdout",
     "output_type": "stream",
     "text": [
      "Si hay asteroide pero no lo vez\n"
     ]
    }
   ],
   "source": [
    "asteroide =19\n",
    "\n",
    "if asteroide >= 20:\n",
    "    print(\"Busca un asteroide en el cielo\")\n",
    "elif asteroide >0 and asteroide < 20:\n",
    "    print(\"Si hay asteroide pero no lo ves\")\n",
    "else:\n",
    "    print(\"No hay asteroide\")\n"
   ]
  },
  {
   "cell_type": "markdown",
   "metadata": {},
   "source": [
    "Los asteroides de menos de 25 metros en su dimensión más grande probablemente se quemarán a medida que entren en la atmósfera de la Tierra.\n",
    "\n",
    "Si una pieza de un asteroide que es más grande que 25 metros pero más pequeña que 1000 metros golpeara la Tierra, causaría mucho daño.\n",
    "También discutimos en el ejercicio anterior que:\n",
    "\n",
    "La velocidad del asteroide varía en función de lo cerca que esté del sol, y cualquier velocidad superior a 25 kilómetros por segundo (km/s) merece una advertencia.\n",
    "Si un asteroide entra en la atmósfera de la Tierra a una velocidad mayor o igual a 20 km/s, a veces produce un rayo de luz que se puede ver desde la Tierra.\n",
    "Usando toda esta información, escribe un programa que emita la advertencia o información correcta a la gente de la Tierra, según la velocidad y el tamaño de un asteroide. Utiliza instrucciones if, else, y elif, así como los operadores and y or."
   ]
  },
  {
   "cell_type": "code",
   "execution_count": 32,
   "metadata": {},
   "outputs": [
    {
     "name": "stdout",
     "output_type": "stream",
     "text": [
      "Peligro, se aproxima demasiado rapido un asteroide, viaja a: 25 kms/s\n"
     ]
    }
   ],
   "source": [
    "asteroide = 25\n",
    "tamano = 25\n",
    "\n",
    "if asteroide >= 25 and tamano >= 25:\n",
    "    print(\"Peligro, se aproxima demasiado rapido un asteroide, viaja a: \" +str(asteroide)+\" kms/s\")\n",
    "elif asteroide >= 20 and tamano < 25:\n",
    "    print(\"Busca un asteroide en el cielo\")\n",
    "else:\n",
    "    print(\"No hay asteroide\")"
   ]
  }
 ],
 "metadata": {
  "interpreter": {
   "hash": "1becf40bd3470f236cb205dec3bc70c87851060d39f0c709bcc246bb381d30b7"
  },
  "kernelspec": {
   "display_name": "Python 3.8.10 64-bit (windows store)",
   "language": "python",
   "name": "python3"
  },
  "language_info": {
   "codemirror_mode": {
    "name": "ipython",
    "version": 3
   },
   "file_extension": ".py",
   "mimetype": "text/x-python",
   "name": "python",
   "nbconvert_exporter": "python",
   "pygments_lexer": "ipython3",
   "version": "3.8.10"
  },
  "orig_nbformat": 4
 },
 "nbformat": 4,
 "nbformat_minor": 2
}
